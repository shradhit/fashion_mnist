{
 "cells": [
  {
   "cell_type": "markdown",
   "metadata": {},
   "source": [
    "# Fashion MNIST \n",
    "\n",
    "\n",
    "* Fashion-MNIST is a dataset of Zalando's article images—consisting of a training set of 60,000 examples and a test set of 10,000 examples.\n",
    "\n",
    "* Each example is a 28x28 grayscale image, associated with a label from 10 classes.\n",
    "\n",
    "* Zalando intends Fashion-MNIST to serve as a direct drop-in replacement for the original MNIST dataset for benchmarking machine learning algorithms.\n",
    "\n",
    "* It shares the same image size and structure of training and testing splits.\n",
    "\n",
    "DataSet Link -> https://github.com/zalandoresearch/fashion-mnist\n",
    "\n"
   ]
  },
  {
   "cell_type": "code",
   "execution_count": 9,
   "metadata": {},
   "outputs": [
    {
     "name": "stdout",
     "output_type": "stream",
     "text": [
      "The nb_black extension is already loaded. To reload it, use:\n",
      "  %reload_ext nb_black\n"
     ]
    },
    {
     "data": {
      "application/javascript": [
       "\n",
       "        setTimeout(function() {\n",
       "            var nbb_cell_id = 9;\n",
       "            var nbb_formatted_code = \"# Replace \\\"widget\\\" with \\\"inline\\\" or \\\"notebook\\\", if necessary\\n%matplotlib inline\\n%load_ext nb_black\\n\\n\\nimport numpy as np\\nimport matplotlib.pyplot as plt\\n\\nfrom sklearn.decomposition import PCA, FastICA\\nfrom sklearn.linear_model import LogisticRegression\\n\\nimport xgboost as xgb\\nfrom xgboost.sklearn import XGBClassifier\\n\\nimport tensorflow as tf\\n\\nfrom keras.models import Sequential\\nfrom keras.layers import Dense, Conv2D, Dropout, Flatten, MaxPooling2D\\nfrom keras.utils import to_categorical\\nfrom keras.datasets import fashion_mnist\\n\\nfrom sklearn.metrics import confusion_matrix\\nimport seaborn as sns\";\n",
       "            var nbb_cells = Jupyter.notebook.get_cells();\n",
       "            for (var i = 0; i < nbb_cells.length; ++i) {\n",
       "                if (nbb_cells[i].input_prompt_number == nbb_cell_id) {\n",
       "                    nbb_cells[i].set_text(nbb_formatted_code);\n",
       "                    break;\n",
       "                }\n",
       "            }\n",
       "        }, 500);\n",
       "        "
      ],
      "text/plain": [
       "<IPython.core.display.Javascript object>"
      ]
     },
     "metadata": {},
     "output_type": "display_data"
    }
   ],
   "source": [
    "# Replace \"widget\" with \"inline\" or \"notebook\", if necessary\n",
    "%matplotlib inline\n",
    "%load_ext nb_black\n",
    "\n",
    "\n",
    "import numpy as np\n",
    "import matplotlib.pyplot as plt\n",
    "\n",
    "from sklearn.decomposition import PCA, FastICA\n",
    "from sklearn.linear_model import LogisticRegression\n",
    "\n",
    "import xgboost as xgb\n",
    "from xgboost.sklearn import XGBClassifier\n",
    "\n",
    "import tensorflow as tf\n",
    "\n",
    "from keras.models import Sequential\n",
    "from keras.layers import Dense, Conv2D, Dropout, Flatten, MaxPooling2D\n",
    "from keras.utils import to_categorical\n",
    "from keras.datasets import fashion_mnist\n",
    "\n",
    "from sklearn.metrics import confusion_matrix\n",
    "import seaborn as sns"
   ]
  },
  {
   "cell_type": "markdown",
   "metadata": {},
   "source": [
    "Then, load the dataset (if this is the first time you're doing this, you will need a network connection)."
   ]
  },
  {
   "cell_type": "markdown",
   "metadata": {},
   "source": [
    "## Importing Image "
   ]
  },
  {
   "cell_type": "code",
   "execution_count": 10,
   "metadata": {},
   "outputs": [
    {
     "data": {
      "application/javascript": [
       "\n",
       "        setTimeout(function() {\n",
       "            var nbb_cell_id = 10;\n",
       "            var nbb_formatted_code = \"(x3_train, y_train), (x3_test, y_test) = fashion_mnist.load_data()\\nn_classes = np.max(y_train) + 1\";\n",
       "            var nbb_cells = Jupyter.notebook.get_cells();\n",
       "            for (var i = 0; i < nbb_cells.length; ++i) {\n",
       "                if (nbb_cells[i].input_prompt_number == nbb_cell_id) {\n",
       "                    nbb_cells[i].set_text(nbb_formatted_code);\n",
       "                    break;\n",
       "                }\n",
       "            }\n",
       "        }, 500);\n",
       "        "
      ],
      "text/plain": [
       "<IPython.core.display.Javascript object>"
      ]
     },
     "metadata": {},
     "output_type": "display_data"
    }
   ],
   "source": [
    "(x3_train, y_train), (x3_test, y_test) = fashion_mnist.load_data()\n",
    "n_classes = np.max(y_train) + 1"
   ]
  },
  {
   "cell_type": "code",
   "execution_count": 11,
   "metadata": {},
   "outputs": [
    {
     "data": {
      "text/plain": [
       "(10000, 784)"
      ]
     },
     "execution_count": 11,
     "metadata": {},
     "output_type": "execute_result"
    },
    {
     "data": {
      "application/javascript": [
       "\n",
       "        setTimeout(function() {\n",
       "            var nbb_cell_id = 11;\n",
       "            var nbb_formatted_code = \"# Vectorize image arrays, since most methods expect this format\\nx_train = x3_train.reshape(x3_train.shape[0], np.prod(x3_train.shape[1:]))\\nx_test = x3_test.reshape(x3_test.shape[0], np.prod(x3_test.shape[1:]))\\nx_test.shape\";\n",
       "            var nbb_cells = Jupyter.notebook.get_cells();\n",
       "            for (var i = 0; i < nbb_cells.length; ++i) {\n",
       "                if (nbb_cells[i].input_prompt_number == nbb_cell_id) {\n",
       "                    nbb_cells[i].set_text(nbb_formatted_code);\n",
       "                    break;\n",
       "                }\n",
       "            }\n",
       "        }, 500);\n",
       "        "
      ],
      "text/plain": [
       "<IPython.core.display.Javascript object>"
      ]
     },
     "metadata": {},
     "output_type": "display_data"
    }
   ],
   "source": [
    "# Vectorize image arrays, since most methods expect this format\n",
    "x_train = x3_train.reshape(x3_train.shape[0], np.prod(x3_train.shape[1:]))\n",
    "x_test = x3_test.reshape(x3_test.shape[0], np.prod(x3_test.shape[1:]))\n",
    "x_test.shape"
   ]
  },
  {
   "cell_type": "code",
   "execution_count": 12,
   "metadata": {},
   "outputs": [
    {
     "data": {
      "application/javascript": [
       "\n",
       "        setTimeout(function() {\n",
       "            var nbb_cell_id = 12;\n",
       "            var nbb_formatted_code = \"# Binary vector representation of targets (for one-hot or multinomial output networks)\\ny3_train = to_categorical(y_train)\\ny3_test = to_categorical(y_test)\";\n",
       "            var nbb_cells = Jupyter.notebook.get_cells();\n",
       "            for (var i = 0; i < nbb_cells.length; ++i) {\n",
       "                if (nbb_cells[i].input_prompt_number == nbb_cell_id) {\n",
       "                    nbb_cells[i].set_text(nbb_formatted_code);\n",
       "                    break;\n",
       "                }\n",
       "            }\n",
       "        }, 500);\n",
       "        "
      ],
      "text/plain": [
       "<IPython.core.display.Javascript object>"
      ]
     },
     "metadata": {},
     "output_type": "display_data"
    }
   ],
   "source": [
    "# Binary vector representation of targets (for one-hot or multinomial output networks)\n",
    "y3_train = to_categorical(y_train)\n",
    "y3_test = to_categorical(y_test)"
   ]
  },
  {
   "cell_type": "code",
   "execution_count": 13,
   "metadata": {},
   "outputs": [
    {
     "data": {
      "text/plain": [
       "array([0, 1, 2, 3, 4, 5, 6, 7, 8, 9], dtype=uint8)"
      ]
     },
     "execution_count": 13,
     "metadata": {},
     "output_type": "execute_result"
    },
    {
     "data": {
      "application/javascript": [
       "\n",
       "        setTimeout(function() {\n",
       "            var nbb_cell_id = 13;\n",
       "            var nbb_formatted_code = \"np.unique(y_train)\";\n",
       "            var nbb_cells = Jupyter.notebook.get_cells();\n",
       "            for (var i = 0; i < nbb_cells.length; ++i) {\n",
       "                if (nbb_cells[i].input_prompt_number == nbb_cell_id) {\n",
       "                    nbb_cells[i].set_text(nbb_formatted_code);\n",
       "                    break;\n",
       "                }\n",
       "            }\n",
       "        }, 500);\n",
       "        "
      ],
      "text/plain": [
       "<IPython.core.display.Javascript object>"
      ]
     },
     "metadata": {},
     "output_type": "display_data"
    }
   ],
   "source": [
    "np.unique(y_train)"
   ]
  },
  {
   "cell_type": "markdown",
   "metadata": {},
   "source": [
    "| Label | Class | \n",
    "| --- | --- |\n",
    "| 0 | T-shirt/top | \n",
    "| 1 | Trouser | \n",
    "| 2 | Pullover | \n",
    "| 3 | Dress | \n",
    "| 4 | Coat | \n",
    "| 5 | Sandal | \n",
    "| 6 | Shirt | \n",
    "| 7 | Sneaker | \n",
    "| 8 | Bag | \n",
    "| 9 | Ankle boot | \n"
   ]
  },
  {
   "cell_type": "code",
   "execution_count": 14,
   "metadata": {},
   "outputs": [
    {
     "name": "stdout",
     "output_type": "stream",
     "text": [
      "{0: 'T-shirt/top', 1: 'Trouser', 2: 'Pullover', 3: 'Dress', 4: 'Coat', 5: 'Sandal', 6: 'Shirt', 7: 'Sneaker', 8: 'Bag', 9: 'Ankle boot'}\n"
     ]
    },
    {
     "data": {
      "application/javascript": [
       "\n",
       "        setTimeout(function() {\n",
       "            var nbb_cell_id = 14;\n",
       "            var nbb_formatted_code = \"dict_type = {\\n    \\\"T-shirt/top\\\": 0,\\n    \\\"Trouser\\\": 1,\\n    \\\"Pullover\\\": 2,\\n    \\\"Dress\\\": 3,\\n    \\\"Coat\\\": 4,\\n    \\\"Sandal\\\": 5,\\n    \\\"Shirt\\\": 6,\\n    \\\"Sneaker\\\": 7,\\n    \\\"Bag\\\": 8,\\n    \\\"Ankle boot\\\": 9,\\n}\\n\\n\\nreverse_map = {v: k for k, v in dict_type.items()}\\nprint(reverse_map)\";\n",
       "            var nbb_cells = Jupyter.notebook.get_cells();\n",
       "            for (var i = 0; i < nbb_cells.length; ++i) {\n",
       "                if (nbb_cells[i].input_prompt_number == nbb_cell_id) {\n",
       "                    nbb_cells[i].set_text(nbb_formatted_code);\n",
       "                    break;\n",
       "                }\n",
       "            }\n",
       "        }, 500);\n",
       "        "
      ],
      "text/plain": [
       "<IPython.core.display.Javascript object>"
      ]
     },
     "metadata": {},
     "output_type": "display_data"
    }
   ],
   "source": [
    "dict_type = {\n",
    "    \"T-shirt/top\": 0,\n",
    "    \"Trouser\": 1,\n",
    "    \"Pullover\": 2,\n",
    "    \"Dress\": 3,\n",
    "    \"Coat\": 4,\n",
    "    \"Sandal\": 5,\n",
    "    \"Shirt\": 6,\n",
    "    \"Sneaker\": 7,\n",
    "    \"Bag\": 8,\n",
    "    \"Ankle boot\": 9,\n",
    "}\n",
    "\n",
    "\n",
    "reverse_map = {v: k for k, v in dict_type.items()}\n",
    "print(reverse_map)"
   ]
  },
  {
   "cell_type": "markdown",
   "metadata": {},
   "source": [
    "Next, we shall define some auxiliary functions for inspecting the image data."
   ]
  },
  {
   "cell_type": "code",
   "execution_count": 15,
   "metadata": {},
   "outputs": [
    {
     "data": {
      "application/javascript": [
       "\n",
       "        setTimeout(function() {\n",
       "            var nbb_cell_id = 15;\n",
       "            var nbb_formatted_code = \"def show_images(images, cols=5, cmap=plt.cm.gray, im_shape=None, fig=None):\\n    \\\"\\\"\\\"Display a set of images.\\n    \\n    images: Either a (N,K) or (N,K,L) array. If 2D, then each row will be reshaped to a rectangle.\\n    im_shape: If images is 2D, the shape of each image. If omitted, defaults to (sqrt(K),sqrt(K)).\\n    cols: Number of columns in subplots; rows is ceil(N/cols).\\n    cmap: Colormap to use.\\\"\\\"\\\"\\n    if fig is None:\\n        fig = plt.figure()\\n    dims = images.shape\\n    if len(dims) not in (2, 3):\\n        raise ValueError(\\\"images must be either 2D or 3D array\\\")\\n    if len(dims) == 3:\\n        if im_shape is not None:\\n            raise ValueError(\\\"im_shape redundant when images is a 3D array\\\")\\n        else:\\n            im_shape = dims[1:]\\n    if len(dims) == 2 and im_shape is None:\\n        L = int(np.sqrt(dims[1]))\\n        if L * L != dims[1]:\\n            raise ValueError(\\n                \\\"im_shape is missing and number of columns not a perfect square\\\"\\n            )\\n        im_shape = (L, L)\\n    N = dims[0]\\n    rows = (N + cols - 1) // cols\\n    for i in range(N):\\n        ax = fig.add_subplot(rows, cols, i + 1)\\n        ax.set_xticks([])\\n        ax.set_yticks([])\\n        # ax.title('Training: %i\\\\n' % labels[y_str[i]], fontsize = 20)\\n        ax.imshow(images[i, ...].reshape(im_shape), cmap=cmap)\\n        # ax.xlabel(lables[y_str[i]])\";\n",
       "            var nbb_cells = Jupyter.notebook.get_cells();\n",
       "            for (var i = 0; i < nbb_cells.length; ++i) {\n",
       "                if (nbb_cells[i].input_prompt_number == nbb_cell_id) {\n",
       "                    nbb_cells[i].set_text(nbb_formatted_code);\n",
       "                    break;\n",
       "                }\n",
       "            }\n",
       "        }, 500);\n",
       "        "
      ],
      "text/plain": [
       "<IPython.core.display.Javascript object>"
      ]
     },
     "metadata": {},
     "output_type": "display_data"
    }
   ],
   "source": [
    "def show_images(images, cols=5, cmap=plt.cm.gray, im_shape=None, fig=None):\n",
    "    \"\"\"Display a set of images.\n",
    "    \n",
    "    images: Either a (N,K) or (N,K,L) array. If 2D, then each row will be reshaped to a rectangle.\n",
    "    im_shape: If images is 2D, the shape of each image. If omitted, defaults to (sqrt(K),sqrt(K)).\n",
    "    cols: Number of columns in subplots; rows is ceil(N/cols).\n",
    "    cmap: Colormap to use.\"\"\"\n",
    "    if fig is None:\n",
    "        fig = plt.figure()\n",
    "    dims = images.shape\n",
    "    if len(dims) not in (2, 3):\n",
    "        raise ValueError(\"images must be either 2D or 3D array\")\n",
    "    if len(dims) == 3:\n",
    "        if im_shape is not None:\n",
    "            raise ValueError(\"im_shape redundant when images is a 3D array\")\n",
    "        else:\n",
    "            im_shape = dims[1:]\n",
    "    if len(dims) == 2 and im_shape is None:\n",
    "        L = int(np.sqrt(dims[1]))\n",
    "        if L * L != dims[1]:\n",
    "            raise ValueError(\n",
    "                \"im_shape is missing and number of columns not a perfect square\"\n",
    "            )\n",
    "        im_shape = (L, L)\n",
    "    N = dims[0]\n",
    "    rows = (N + cols - 1) // cols\n",
    "    for i in range(N):\n",
    "        ax = fig.add_subplot(rows, cols, i + 1)\n",
    "        ax.set_xticks([])\n",
    "        ax.set_yticks([])\n",
    "        # ax.title('Training: %i\\n' % labels[y_str[i]], fontsize = 20)\n",
    "        ax.imshow(images[i, ...].reshape(im_shape), cmap=cmap)\n",
    "        # ax.xlabel(lables[y_str[i]])"
   ]
  },
  {
   "cell_type": "code",
   "execution_count": 16,
   "metadata": {},
   "outputs": [
    {
     "data": {
      "image/png": "[encoded data removed]",
      "text/plain": [
       "<Figure size 432x288 with 15 Axes>"
      ]
     },
     "metadata": {},
     "output_type": "display_data"
    },
    {
     "data": {
      "application/javascript": [
       "\n",
       "        setTimeout(function() {\n",
       "            var nbb_cell_id = 16;\n",
       "            var nbb_formatted_code = \"show_images(x3_train[0:15, ...])\";\n",
       "            var nbb_cells = Jupyter.notebook.get_cells();\n",
       "            for (var i = 0; i < nbb_cells.length; ++i) {\n",
       "                if (nbb_cells[i].input_prompt_number == nbb_cell_id) {\n",
       "                    nbb_cells[i].set_text(nbb_formatted_code);\n",
       "                    break;\n",
       "                }\n",
       "            }\n",
       "        }, 500);\n",
       "        "
      ],
      "text/plain": [
       "<IPython.core.display.Javascript object>"
      ]
     },
     "metadata": {},
     "output_type": "display_data"
    }
   ],
   "source": [
    "show_images(x3_train[0:15, ...])"
   ]
  },
  {
   "cell_type": "code",
   "execution_count": 31,
   "metadata": {},
   "outputs": [
    {
     "name": "stdout",
     "output_type": "stream",
     "text": [
      "Number of Images in Train Set: 60000, Pixels of each image: 28 * 28\n",
      "Number of Images in Test Set:  10000, Pixels of each image: 28 * 28\n"
     ]
    },
    {
     "data": {
      "application/javascript": [
       "\n",
       "        setTimeout(function() {\n",
       "            var nbb_cell_id = 31;\n",
       "            var nbb_formatted_code = \"train_dim = x3_train.shape\\ntest_dim = x3_test.shape\\nprint(\\\"Number of Images in Train Set: %d, Pixels of each image: %d * %d\\\" % train_dim)\\nprint(\\\"Number of Images in Test Set:  %d, Pixels of each image: %d * %d\\\" % test_dim)\";\n",
       "            var nbb_cells = Jupyter.notebook.get_cells();\n",
       "            for (var i = 0; i < nbb_cells.length; ++i) {\n",
       "                if (nbb_cells[i].input_prompt_number == nbb_cell_id) {\n",
       "                    nbb_cells[i].set_text(nbb_formatted_code);\n",
       "                    break;\n",
       "                }\n",
       "            }\n",
       "        }, 500);\n",
       "        "
      ],
      "text/plain": [
       "<IPython.core.display.Javascript object>"
      ]
     },
     "metadata": {},
     "output_type": "display_data"
    }
   ],
   "source": [
    "train_dim = x3_train.shape\n",
    "test_dim = x3_test.shape\n",
    "print(\"Number of Images in Train Set: %d, Pixels of each image: %d * %d\" % train_dim)\n",
    "print(\"Number of Images in Test Set:  %d, Pixels of each image: %d * %d\" % test_dim)"
   ]
  },
  {
   "cell_type": "markdown",
   "metadata": {},
   "source": [
    "---\n",
    "## 1. Logistic regression \n",
    "\n",
    "### a. L1 Penalty \n",
    "Training a logistic regression model on the raw images, using ``scikit-learn``, and report training and test errors. \n",
    "\n"
   ]
  },
  {
   "cell_type": "code",
   "execution_count": 32,
   "metadata": {},
   "outputs": [
    {
     "name": "stderr",
     "output_type": "stream",
     "text": [
      "/Users/shradhitsubudhi/anaconda3/envs/python37/lib/python3.7/site-packages/sklearn/linear_model/sag.py:334: ConvergenceWarning: The max_iter was reached which means the coef_ did not converge\n",
      "  \"the coef_ did not converge\", ConvergenceWarning)\n"
     ]
    },
    {
     "name": "stdout",
     "output_type": "stream",
     "text": [
      "Train score: 0.877317\n",
      "Test score: 0.838900\n"
     ]
    },
    {
     "data": {
      "application/javascript": [
       "\n",
       "        setTimeout(function() {\n",
       "            var nbb_cell_id = 32;\n",
       "            var nbb_formatted_code = \"# l1\\nl_one = LogisticRegression(solver=\\\"saga\\\", multi_class=\\\"multinomial\\\", penalty=\\\"l1\\\")\\nl_one.fit(x_train, y_train)\\nprint(\\\"Train score: %f\\\" % l_one.score(x_train, y_train))\\nprint(\\\"Test score: %f\\\" % l_one.score(x_test, y_test))\";\n",
       "            var nbb_cells = Jupyter.notebook.get_cells();\n",
       "            for (var i = 0; i < nbb_cells.length; ++i) {\n",
       "                if (nbb_cells[i].input_prompt_number == nbb_cell_id) {\n",
       "                    nbb_cells[i].set_text(nbb_formatted_code);\n",
       "                    break;\n",
       "                }\n",
       "            }\n",
       "        }, 500);\n",
       "        "
      ],
      "text/plain": [
       "<IPython.core.display.Javascript object>"
      ]
     },
     "metadata": {},
     "output_type": "display_data"
    }
   ],
   "source": [
    "# l1\n",
    "l_one = LogisticRegression(solver=\"saga\", multi_class=\"multinomial\", penalty=\"l1\")\n",
    "l_one.fit(x_train, y_train)\n",
    "print(\"Train score: %f\" % l_one.score(x_train, y_train))\n",
    "print(\"Test score: %f\" % l_one.score(x_test, y_test))"
   ]
  },
  {
   "cell_type": "code",
   "execution_count": 6,
   "metadata": {},
   "outputs": [],
   "source": [
    "y_pred_l1 = l_one.predict(x_test)"
   ]
  },
  {
   "cell_type": "code",
   "execution_count": 9,
   "metadata": {},
   "outputs": [
    {
     "data": {
      "image/png": "[encoded data removed]",
      "text/plain": [
       "<Figure size 504x504 with 2 Axes>"
      ]
     },
     "metadata": {
      "needs_background": "light"
     },
     "output_type": "display_data"
    }
   ],
   "source": [
    "mat = confusion_matrix(y_test, y_pred_l1)\n",
    "plt.figure(figsize=(7, 7))\n",
    "\n",
    "sns.heatmap(mat.T, xticklabels=dict_type.keys(),\n",
    "            annot=True,fmt=\"d\",square=True, yticklabels=dict_type.keys(), cmap=\"Blues\")\n",
    "plt.xlabel('true label')\n",
    "plt.ylabel('predicted label');"
   ]
  },
  {
   "cell_type": "markdown",
   "metadata": {},
   "source": [
    "\n",
    "### b. L2 Penalty \n",
    "\n",
    "**Default is Ridge Regression - l2**\n"
   ]
  },
  {
   "cell_type": "code",
   "execution_count": 114,
   "metadata": {},
   "outputs": [
    {
     "name": "stderr",
     "output_type": "stream",
     "text": [
      "/Users/shradhitsubudhi/anaconda3/envs/python37/lib/python3.7/site-packages/sklearn/linear_model/logistic.py:758: ConvergenceWarning: lbfgs failed to converge. Increase the number of iterations.\n",
      "  \"of iterations.\", ConvergenceWarning)\n"
     ]
    },
    {
     "name": "stdout",
     "output_type": "stream",
     "text": [
      "Train score: 0.863183\n",
      "Test score: 0.841200\n"
     ]
    }
   ],
   "source": [
    "\n",
    "lr = LogisticRegression(solver='lbfgs', multi_class='multinomial')\n",
    "lr.fit(x_train, y_train)\n",
    "print(\"Train score: %f\" % lr.score(x_train, y_train))\n",
    "print(\"Test score: %f\" % lr.score(x_test, y_test))"
   ]
  },
  {
   "cell_type": "code",
   "execution_count": 153,
   "metadata": {},
   "outputs": [],
   "source": [
    "y_pred_l2 = lr.predict(x_test)"
   ]
  },
  {
   "cell_type": "code",
   "execution_count": 154,
   "metadata": {},
   "outputs": [
    {
     "data": {
      "image/png": "[encoded data removed]",
      "text/plain": [
       "<Figure size 504x504 with 2 Axes>"
      ]
     },
     "metadata": {
      "needs_background": "light"
     },
     "output_type": "display_data"
    }
   ],
   "source": [
    "mat = confusion_matrix(y_test, y_pred_l2)\n",
    "plt.figure(figsize=(7, 7))\n",
    "\n",
    "sns.heatmap(mat.T, xticklabels=dict_type.keys(),\n",
    "            annot=True,fmt=\"d\",square=True, yticklabels=dict_type.keys(), cmap=\"Blues\")\n",
    "plt.xlabel('true label')\n",
    "plt.ylabel('predicted label');"
   ]
  },
  {
   "cell_type": "markdown",
   "metadata": {},
   "source": [
    "## 2. Logistic regression on PCA and ICA features\n",
    "\n",
    "Training the logistic regression on the top-$K$ principal component features and examine it's training and test error.  "
   ]
  },
  {
   "cell_type": "code",
   "execution_count": 19,
   "metadata": {},
   "outputs": [],
   "source": [
    "x3_train.shape"
   ]
  },
  {
   "cell_type": "code",
   "execution_count": 21,
   "metadata": {},
   "outputs": [
    {
     "name": "stdout",
     "output_type": "stream",
     "text": [
      "Train score: 0.843083\n",
      "Test score: 0.435200\n"
     ]
    }
   ],
   "source": [
    "\n",
    "lr = LogisticRegression(solver='lbfgs', multi_class='multinomial',max_iter = 10000)\n",
    "\n",
    "lr.fit(x_transformed, y_train)\n",
    "print(\"Train score: %f\" % lr.score(x_transformed, y_train))\n",
    "print(\"Test score: %f\" % lr.score(x_transformed_test, y_test))\n",
    "\n",
    "\n"
   ]
  },
  {
   "cell_type": "markdown",
   "metadata": {},
   "source": [
    "Next, we did the same on the top-$K$ independent component features, and answer the same questions."
   ]
  },
  {
   "cell_type": "code",
   "execution_count": 7,
   "metadata": {},
   "outputs": [],
   "source": [
    "img_rows = x3_train.shape[1]\n",
    "img_cols = x3_train.shape[2]\n",
    "\n",
    "x_train_conv = x_train.reshape(x3_train.shape[0], img_rows, img_cols, 1)\n",
    "x_test_conv = x_test.reshape(x3_test.shape[0], img_rows, img_cols, 1)\n",
    "input_shape = (img_rows, img_cols, 1)\n",
    "\n",
    "# more reshaping\n",
    "x_train_conv = x_train_conv.astype(\"float32\")\n",
    "x_test_conv = x_test_conv.astype(\"float32\")\n",
    "x_train_conv /= 255\n",
    "x_test_conv /= 255\n",
    "print(\"x_train shape:\", x_train_conv.shape)\n",
    "print(\"Number of images in x_train_conv\", x_train_conv.shape[0])\n",
    "print(\"Number of images in x_test_conv\", x_test_conv.shape[0])"
   ]
  },
  {
   "cell_type": "code",
   "execution_count": 8,
   "metadata": {},
   "outputs": [
    {
     "name": "stdout",
     "output_type": "stream",
     "text": [
      "Train score: 0.807450\n",
      "Test score: 0.111100\n"
     ]
    }
   ],
   "source": [
    "img_rows = x3_train.shape[1]\n",
    "img_cols = x3_train.shape[2]\n",
    "\n",
    "x_train_conv = x_train.reshape(x3_train.shape[0], img_rows, img_cols, 1)\n",
    "x_test_conv = x_test.reshape(x3_test.shape[0], img_rows, img_cols, 1)\n",
    "input_shape = (img_rows, img_cols, 1)\n",
    "\n",
    "# more reshaping\n",
    "x_train_conv = x_train_conv.astype(\"float32\")\n",
    "x_test_conv = x_test_conv.astype(\"float32\")\n",
    "x_train_conv /= 255\n",
    "x_test_conv /= 255\n",
    "print(\"x_train shape:\", x_train_conv.shape)\n",
    "print(\"Number of images in x_train_conv\", x_train_conv.shape[0])\n",
    "print(\"Number of images in x_test_conv\", x_test_conv.shape[0])"
   ]
  },
  {
   "cell_type": "markdown",
   "metadata": {},
   "source": [
    "-----\n",
    "\n",
    "## 3. Cross validation for Logistic Regression "
   ]
  },
  {
   "cell_type": "markdown",
   "metadata": {},
   "source": [
    "Using ten-fold cross-validation to select a good $L_2$-norm regularization strength. "
   ]
  },
  {
   "cell_type": "code",
   "execution_count": 13,
   "metadata": {},
   "outputs": [
    {
     "data": {
      "text/plain": [
       "LogisticRegressionCV(Cs=[1e-05, 0.0001, 0.001, 0.01, 0.1, 1.0, 10.0, 100.0, 1000.0, 10000.0],\n",
       "           class_weight=None, cv=10, dual=False, fit_intercept=True,\n",
       "           intercept_scaling=1.0, max_iter=10000,\n",
       "           multi_class='multinomial', n_jobs=None, penalty='l2',\n",
       "           random_state=None, refit=True, scoring=None, solver='saga',\n",
       "           tol=10, verbose=0)"
      ]
     },
     "execution_count": 13,
     "metadata": {},
     "output_type": "execute_result"
    }
   ],
   "source": [
    "from sklearn.linear_model import LogisticRegressionCV\n",
    "\n",
    "searchCV = LogisticRegressionCV(\n",
    "        Cs=list(np.power(10.0, np.arange(-5, 5)))\n",
    "        ,cv = 10\n",
    "        ,max_iter = 10000\n",
    "        ,solver = 'saga'\n",
    "        ,tol=10\n",
    "        ,multi_class =\"multinomial\"\n",
    "        )\n",
    "searchCV.fit(x_train, y_train)"
   ]
  },
  {
   "cell_type": "code",
   "execution_count": 33,
   "metadata": {},
   "outputs": [
    {
     "data": {
      "application/javascript": [
       "\n",
       "        setTimeout(function() {\n",
       "            var nbb_cell_id = 33;\n",
       "            var nbb_formatted_code = \"box_plot = searchCV.scores_[0]\\n# print(box_plot)\";\n",
       "            var nbb_cells = Jupyter.notebook.get_cells();\n",
       "            for (var i = 0; i < nbb_cells.length; ++i) {\n",
       "                if (nbb_cells[i].input_prompt_number == nbb_cell_id) {\n",
       "                    nbb_cells[i].set_text(nbb_formatted_code);\n",
       "                    break;\n",
       "                }\n",
       "            }\n",
       "        }, 500);\n",
       "        "
      ],
      "text/plain": [
       "<IPython.core.display.Javascript object>"
      ]
     },
     "metadata": {},
     "output_type": "display_data"
    }
   ],
   "source": [
    "box_plot = searchCV.scores_[0]\n",
    "# print(box_plot)"
   ]
  },
  {
   "cell_type": "code",
   "execution_count": 15,
   "metadata": {},
   "outputs": [
    {
     "data": {
      "text/plain": [
       "array([1.e-05, 1.e-04, 1.e-03, 1.e-02, 1.e-01, 1.e+00, 1.e+01, 1.e+02,\n",
       "       1.e+03, 1.e+04])"
      ]
     },
     "execution_count": 15,
     "metadata": {},
     "output_type": "execute_result"
    }
   ],
   "source": [
    "index = searchCV.Cs_\n",
    "index"
   ]
  },
  {
   "cell_type": "code",
   "execution_count": 16,
   "metadata": {},
   "outputs": [
    {
     "data": {
      "text/html": [
       "<div>\n",
       "<style scoped>\n",
       "    .dataframe tbody tr th:only-of-type {\n",
       "        vertical-align: middle;\n",
       "    }\n",
       "\n",
       "    .dataframe tbody tr th {\n",
       "        vertical-align: top;\n",
       "    }\n",
       "\n",
       "    .dataframe thead th {\n",
       "        text-align: right;\n",
       "    }\n",
       "</style>\n",
       "<table border=\"1\" class=\"dataframe\">\n",
       "  <thead>\n",
       "    <tr style=\"text-align: right;\">\n",
       "      <th></th>\n",
       "      <th>1.e-05</th>\n",
       "      <th>1.e-04</th>\n",
       "      <th>1.e-03</th>\n",
       "      <th>1.e-02</th>\n",
       "      <th>1.e-01</th>\n",
       "      <th>1.e-00</th>\n",
       "      <th>1.e+01</th>\n",
       "      <th>1.e+02</th>\n",
       "      <th>1.e+03</th>\n",
       "      <th>1.e+04</th>\n",
       "    </tr>\n",
       "  </thead>\n",
       "  <tbody>\n",
       "    <tr>\n",
       "      <th>0</th>\n",
       "      <td>0.847667</td>\n",
       "      <td>0.848500</td>\n",
       "      <td>0.852000</td>\n",
       "      <td>0.851167</td>\n",
       "      <td>0.853000</td>\n",
       "      <td>0.852333</td>\n",
       "      <td>0.851833</td>\n",
       "      <td>0.851500</td>\n",
       "      <td>0.851500</td>\n",
       "      <td>0.852000</td>\n",
       "    </tr>\n",
       "    <tr>\n",
       "      <th>1</th>\n",
       "      <td>0.842500</td>\n",
       "      <td>0.853667</td>\n",
       "      <td>0.854333</td>\n",
       "      <td>0.857333</td>\n",
       "      <td>0.856000</td>\n",
       "      <td>0.857167</td>\n",
       "      <td>0.857333</td>\n",
       "      <td>0.858500</td>\n",
       "      <td>0.857500</td>\n",
       "      <td>0.858500</td>\n",
       "    </tr>\n",
       "    <tr>\n",
       "      <th>2</th>\n",
       "      <td>0.837500</td>\n",
       "      <td>0.840333</td>\n",
       "      <td>0.842167</td>\n",
       "      <td>0.843833</td>\n",
       "      <td>0.843833</td>\n",
       "      <td>0.845333</td>\n",
       "      <td>0.844833</td>\n",
       "      <td>0.844833</td>\n",
       "      <td>0.845000</td>\n",
       "      <td>0.844333</td>\n",
       "    </tr>\n",
       "    <tr>\n",
       "      <th>3</th>\n",
       "      <td>0.838667</td>\n",
       "      <td>0.847333</td>\n",
       "      <td>0.850667</td>\n",
       "      <td>0.851500</td>\n",
       "      <td>0.852167</td>\n",
       "      <td>0.851667</td>\n",
       "      <td>0.850167</td>\n",
       "      <td>0.849500</td>\n",
       "      <td>0.849667</td>\n",
       "      <td>0.849167</td>\n",
       "    </tr>\n",
       "    <tr>\n",
       "      <th>4</th>\n",
       "      <td>0.845667</td>\n",
       "      <td>0.848833</td>\n",
       "      <td>0.855833</td>\n",
       "      <td>0.856333</td>\n",
       "      <td>0.856833</td>\n",
       "      <td>0.857833</td>\n",
       "      <td>0.858667</td>\n",
       "      <td>0.858167</td>\n",
       "      <td>0.857167</td>\n",
       "      <td>0.857333</td>\n",
       "    </tr>\n",
       "  </tbody>\n",
       "</table>\n",
       "</div>"
      ],
      "text/plain": [
       "     1.e-05    1.e-04    1.e-03    1.e-02    1.e-01    1.e-00    1.e+01  \\\n",
       "0  0.847667  0.848500  0.852000  0.851167  0.853000  0.852333  0.851833   \n",
       "1  0.842500  0.853667  0.854333  0.857333  0.856000  0.857167  0.857333   \n",
       "2  0.837500  0.840333  0.842167  0.843833  0.843833  0.845333  0.844833   \n",
       "3  0.838667  0.847333  0.850667  0.851500  0.852167  0.851667  0.850167   \n",
       "4  0.845667  0.848833  0.855833  0.856333  0.856833  0.857833  0.858667   \n",
       "\n",
       "     1.e+02    1.e+03    1.e+04  \n",
       "0  0.851500  0.851500  0.852000  \n",
       "1  0.858500  0.857500  0.858500  \n",
       "2  0.844833  0.845000  0.844333  \n",
       "3  0.849500  0.849667  0.849167  \n",
       "4  0.858167  0.857167  0.857333  "
      ]
     },
     "execution_count": 16,
     "metadata": {},
     "output_type": "execute_result"
    }
   ],
   "source": [
    "#import seaborn\n",
    "#seaborn.boxplot(x =  y = box_plot, whis = 1)\n",
    "import pandas as pd\n",
    "df = pd.DataFrame({'1.e-05':box_plot[:,0], '1.e-04':box_plot[:,1], '1.e-03':box_plot[:,2], '1.e-02': box_plot[:,3],\n",
    "                       '1.e-01':box_plot[:,4], '1.e-00':box_plot[:,5],'1.e+01':box_plot[:,6], '1.e+02':box_plot[:,7], \n",
    "                        '1.e+03':box_plot[:,8], '1.e+04':box_plot[:,9] })\n",
    "df.head()"
   ]
  },
  {
   "cell_type": "markdown",
   "metadata": {},
   "source": [
    "Ploting the cross-validation scores against parameter value, using a [box plot](https://matplotlib.org/gallery/statistics/boxplot_demo.html)."
   ]
  },
  {
   "cell_type": "code",
   "execution_count": 17,
   "metadata": {},
   "outputs": [
    {
     "data": {
      "text/plain": [
       "<matplotlib.axes._subplots.AxesSubplot at 0x10fac8080>"
      ]
     },
     "execution_count": 17,
     "metadata": {},
     "output_type": "execute_result"
    },
    {
     "data": {
      "image/png": "[encoded data removed]",
      "text/plain": [
       "<Figure size 432x288 with 1 Axes>"
      ]
     },
     "metadata": {
      "needs_background": "light"
     },
     "output_type": "display_data"
    }
   ],
   "source": [
    "img_rows = x3_train.shape[1]\n",
    "img_cols = x3_train.shape[2]\n",
    "\n",
    "x_train_conv = x_train.reshape(x3_train.shape[0], img_rows, img_cols, 1)\n",
    "x_test_conv = x_test.reshape(x3_test.shape[0], img_rows, img_cols, 1)\n",
    "input_shape = (img_rows, img_cols, 1)\n",
    "\n",
    "# more reshaping\n",
    "x_train_conv = x_train_conv.astype(\"float32\")\n",
    "x_test_conv = x_test_conv.astype(\"float32\")\n",
    "x_train_conv /= 255\n",
    "x_test_conv /= 255\n",
    "print(\"x_train shape:\", x_train_conv.shape)\n",
    "print(\"Number of images in x_train_conv\", x_train_conv.shape[0])\n",
    "print(\"Number of images in x_test_conv\", x_test_conv.shape[0])"
   ]
  },
  {
   "cell_type": "code",
   "execution_count": 18,
   "metadata": {},
   "outputs": [
    {
     "data": {
      "text/plain": [
       "1.e-05    0.840683\n",
       "1.e-04    0.848100\n",
       "1.e-03    0.851267\n",
       "1.e-02    0.852500\n",
       "1.e-01    0.852983\n",
       "1.e-00    0.854017\n",
       "1.e+01    0.853983\n",
       "1.e+02    0.854283\n",
       "1.e+03    0.854383\n",
       "1.e+04    0.854733\n",
       "dtype: float64"
      ]
     },
     "execution_count": 18,
     "metadata": {},
     "output_type": "execute_result"
    }
   ],
   "source": [
    "x3_train"
   ]
  },
  {
   "cell_type": "markdown",
   "metadata": {},
   "source": [
    "**At L2 = 1/ 1.e+04, we get the highest CV score of - 0.8547**\n"
   ]
  },
  {
   "cell_type": "markdown",
   "metadata": {},
   "source": [
    "-------\n",
    "\n",
    "## 4. Decision Tree Classifier  "
   ]
  },
  {
   "cell_type": "code",
   "execution_count": 11,
   "metadata": {},
   "outputs": [
    {
     "name": "stdout",
     "output_type": "stream",
     "text": [
      "Train score: 0.997767\n",
      "Test score: 0.790200\n"
     ]
    }
   ],
   "source": [
    "from sklearn.tree import DecisionTreeClassifier\n",
    "dt_classifier = DecisionTreeClassifier(max_depth = 30, random_state=0)\n",
    "dt_classifier.fit(x_train, y_train)\n",
    "\n",
    "print(\"Train score: %f\" % dt_classifier.score(x_train, y_train))\n",
    "print(\"Test score: %f\" % dt_classifier.score(x_test, y_test))"
   ]
  },
  {
   "cell_type": "code",
   "execution_count": 16,
   "metadata": {},
   "outputs": [],
   "source": [
    "y_pred_dt = dt_classifier.predict(x_test)"
   ]
  },
  {
   "cell_type": "code",
   "execution_count": 19,
   "metadata": {},
   "outputs": [
    {
     "data": {
      "image/png": "[encoded data removed]",
      "text/plain": [
       "<Figure size 504x504 with 2 Axes>"
      ]
     },
     "metadata": {
      "needs_background": "light"
     },
     "output_type": "display_data"
    }
   ],
   "source": [
    "mat = confusion_matrix(y_test, y_pred_dt)\n",
    "plt.figure(figsize=(7, 7))\n",
    "\n",
    "sns.heatmap(mat.T, xticklabels=dict_type.keys(),\n",
    "            annot=True,fmt=\"d\",square=True, yticklabels=dict_type.keys(), cmap=\"Blues\")\n",
    "plt.xlabel('true label')\n",
    "plt.ylabel('predicted label');"
   ]
  },
  {
   "cell_type": "markdown",
   "metadata": {},
   "source": [
    "-------\n",
    "\n",
    "## 5. XGBoost Classifier "
   ]
  },
  {
   "cell_type": "code",
   "execution_count": 23,
   "metadata": {},
   "outputs": [
    {
     "data": {
      "text/plain": [
       "XGBClassifier(base_score=0.5, booster='gbtree', colsample_bylevel=1,\n",
       "       colsample_bytree=1, gamma=0, learning_rate=0.1, max_delta_step=0,\n",
       "       max_depth=3, min_child_weight=1, missing=None, n_estimators=100,\n",
       "       n_jobs=1, nthread=None, objective='multi:softprob', random_state=0,\n",
       "       reg_alpha=0, reg_lambda=1, scale_pos_weight=1, seed=None,\n",
       "       silent=True, subsample=1)"
      ]
     },
     "execution_count": 23,
     "metadata": {},
     "output_type": "execute_result"
    }
   ],
   "source": [
    "model = XGBClassifier()\n",
    "model.fit(x_train, y_train)\n"
   ]
  },
  {
   "cell_type": "code",
   "execution_count": 24,
   "metadata": {},
   "outputs": [
    {
     "name": "stdout",
     "output_type": "stream",
     "text": [
      "Train score: 0.881550\n",
      "Test score: 0.858200\n"
     ]
    }
   ],
   "source": [
    "print(\"Train score: %f\" % model.score(x_train, y_train))\n",
    "print(\"Test score: %f\" % model.score(x_test, y_test))"
   ]
  },
  {
   "cell_type": "code",
   "execution_count": 26,
   "metadata": {},
   "outputs": [],
   "source": [
    "y_pred_xg = model.predict(x_test)"
   ]
  },
  {
   "cell_type": "code",
   "execution_count": 27,
   "metadata": {},
   "outputs": [
    {
     "data": {
      "image/png": "[encoded data removed]",
      "text/plain": [
       "<Figure size 504x504 with 2 Axes>"
      ]
     },
     "metadata": {
      "needs_background": "light"
     },
     "output_type": "display_data"
    }
   ],
   "source": [
    "mat = confusion_matrix(y_test, y_pred_xg)\n",
    "plt.figure(figsize=(7, 7))\n",
    "\n",
    "sns.heatmap(mat.T, xticklabels=dict_type.keys(),\n",
    "            annot=True,fmt=\"d\",square=True, yticklabels=dict_type.keys(), cmap=\"Blues\")\n",
    "plt.xlabel('true label')\n",
    "plt.ylabel('predicted label');"
   ]
  },
  {
   "cell_type": "markdown",
   "metadata": {},
   "source": [
    "----\n",
    "## 6) Building LogisticRegression using Keras"
   ]
  },
  {
   "cell_type": "markdown",
   "metadata": {},
   "source": [
    "\n",
    "Train a neural network that performs multi-class logistic regression, and compare it's performance against the Scikit-learn model.  "
   ]
  },
  {
   "cell_type": "code",
   "execution_count": 6,
   "metadata": {},
   "outputs": [],
   "source": [
    "#pre-processing & normalization of the data inputs \n",
    "x_train = x_train.astype('float32') \n",
    "x_test = x_test.astype('float32') \n",
    "x_train /= 255 \n",
    "x_test /= 255\n"
   ]
  },
  {
   "cell_type": "code",
   "execution_count": 7,
   "metadata": {},
   "outputs": [
    {
     "name": "stdout",
     "output_type": "stream",
     "text": [
      "WARNING:tensorflow:From /Users/shradhitsubudhi/anaconda3/envs/python37/lib/python3.7/site-packages/tensorflow/python/framework/op_def_library.py:263: colocate_with (from tensorflow.python.framework.ops) is deprecated and will be removed in a future version.\n",
      "Instructions for updating:\n",
      "Colocations handled automatically by placer.\n",
      "_________________________________________________________________\n",
      "Layer (type)                 Output Shape              Param #   \n",
      "=================================================================\n",
      "dense_1 (Dense)              (None, 10)                7850      \n",
      "=================================================================\n",
      "Total params: 7,850\n",
      "Trainable params: 7,850\n",
      "Non-trainable params: 0\n",
      "_________________________________________________________________\n"
     ]
    }
   ],
   "source": [
    "output_dim = nb_classes = len(np.unique(y_train))\n",
    "input_dim = x_train.shape[1]\n",
    "\n",
    "model = Sequential() \n",
    "model.add(Dense(output_dim, input_dim = input_dim, activation='softmax',kernel_regularizer = L1L2(l1=0, l2 = 0.01))) \n",
    "batch_size = 50\n",
    "nb_epoch = 40\n",
    "model.compile(optimizer = 'sgd', loss = 'categorical_crossentropy', metrics=['accuracy']) \n",
    "model.summary()"
   ]
  },
  {
   "cell_type": "code",
   "execution_count": 8,
   "metadata": {},
   "outputs": [
    {
     "name": "stdout",
     "output_type": "stream",
     "text": [
      "WARNING:tensorflow:From /Users/shradhitsubudhi/anaconda3/envs/python37/lib/python3.7/site-packages/tensorflow/python/ops/math_ops.py:3066: to_int32 (from tensorflow.python.ops.math_ops) is deprecated and will be removed in a future version.\n",
      "Instructions for updating:\n",
      "Use tf.cast instead.\n",
      "Train on 60000 samples, validate on 10000 samples\n",
      "Epoch 1/40\n",
      "60000/60000 [==============================] - 1s 16us/step - loss: 1.1366 - acc: 0.7118 - val_loss: 0.9398 - val_acc: 0.7611\n",
      "Epoch 2/40\n",
      "60000/60000 [==============================] - 1s 15us/step - loss: 0.8682 - acc: 0.7901 - val_loss: 0.8492 - val_acc: 0.7861\n",
      "Epoch 3/40\n",
      "60000/60000 [==============================] - 1s 14us/step - loss: 0.8063 - acc: 0.8057 - val_loss: 0.8054 - val_acc: 0.7994\n",
      "Epoch 4/40\n",
      "60000/60000 [==============================] - 1s 14us/step - loss: 0.7733 - acc: 0.8135 - val_loss: 0.7840 - val_acc: 0.8022\n",
      "Epoch 5/40\n",
      "60000/60000 [==============================] - 1s 15us/step - loss: 0.7542 - acc: 0.8172 - val_loss: 0.7682 - val_acc: 0.8093\n",
      "Epoch 6/40\n",
      "60000/60000 [==============================] - 1s 14us/step - loss: 0.7416 - acc: 0.8197 - val_loss: 0.7561 - val_acc: 0.8119\n",
      "Epoch 7/40\n",
      "60000/60000 [==============================] - 1s 14us/step - loss: 0.7337 - acc: 0.8218 - val_loss: 0.7505 - val_acc: 0.8132\n",
      "Epoch 8/40\n",
      "60000/60000 [==============================] - 1s 15us/step - loss: 0.7280 - acc: 0.8225 - val_loss: 0.7456 - val_acc: 0.8137\n",
      "Epoch 9/40\n",
      "60000/60000 [==============================] - 1s 15us/step - loss: 0.7243 - acc: 0.8226 - val_loss: 0.7416 - val_acc: 0.8141\n",
      "Epoch 10/40\n",
      "60000/60000 [==============================] - 1s 15us/step - loss: 0.7213 - acc: 0.8235 - val_loss: 0.7495 - val_acc: 0.8046\n",
      "Epoch 11/40\n",
      "60000/60000 [==============================] - 1s 15us/step - loss: 0.7195 - acc: 0.8237 - val_loss: 0.7384 - val_acc: 0.8129\n",
      "Epoch 12/40\n",
      "60000/60000 [==============================] - 1s 15us/step - loss: 0.7176 - acc: 0.8238 - val_loss: 0.7365 - val_acc: 0.8124\n",
      "Epoch 13/40\n",
      "60000/60000 [==============================] - 1s 14us/step - loss: 0.7163 - acc: 0.8234 - val_loss: 0.7356 - val_acc: 0.8127\n",
      "Epoch 14/40\n",
      "60000/60000 [==============================] - 1s 16us/step - loss: 0.7153 - acc: 0.8228 - val_loss: 0.7349 - val_acc: 0.8112\n",
      "Epoch 15/40\n",
      "60000/60000 [==============================] - 1s 16us/step - loss: 0.7143 - acc: 0.8230 - val_loss: 0.7369 - val_acc: 0.8096\n",
      "Epoch 16/40\n",
      "60000/60000 [==============================] - 1s 16us/step - loss: 0.7137 - acc: 0.8233 - val_loss: 0.7325 - val_acc: 0.8124\n",
      "Epoch 17/40\n",
      "60000/60000 [==============================] - 1s 15us/step - loss: 0.7131 - acc: 0.8234 - val_loss: 0.7321 - val_acc: 0.8115\n",
      "Epoch 18/40\n",
      "60000/60000 [==============================] - 1s 15us/step - loss: 0.7123 - acc: 0.8223 - val_loss: 0.7321 - val_acc: 0.8129\n",
      "Epoch 19/40\n",
      "60000/60000 [==============================] - 1s 16us/step - loss: 0.7120 - acc: 0.8224 - val_loss: 0.7367 - val_acc: 0.8085\n",
      "Epoch 20/40\n",
      "60000/60000 [==============================] - 1s 15us/step - loss: 0.7116 - acc: 0.8229 - val_loss: 0.7306 - val_acc: 0.8112\n",
      "Epoch 21/40\n",
      "60000/60000 [==============================] - 1s 15us/step - loss: 0.7109 - acc: 0.8229 - val_loss: 0.7318 - val_acc: 0.8092\n",
      "Epoch 22/40\n",
      "60000/60000 [==============================] - 1s 15us/step - loss: 0.7104 - acc: 0.8213 - val_loss: 0.7292 - val_acc: 0.8101\n",
      "Epoch 23/40\n",
      "60000/60000 [==============================] - 1s 15us/step - loss: 0.7104 - acc: 0.8214 - val_loss: 0.7290 - val_acc: 0.8098\n",
      "Epoch 24/40\n",
      "60000/60000 [==============================] - 1s 14us/step - loss: 0.7100 - acc: 0.8215 - val_loss: 0.7289 - val_acc: 0.8109\n",
      "Epoch 25/40\n",
      "60000/60000 [==============================] - 1s 15us/step - loss: 0.7097 - acc: 0.8211 - val_loss: 0.7290 - val_acc: 0.8106\n",
      "Epoch 26/40\n",
      "60000/60000 [==============================] - 1s 15us/step - loss: 0.7093 - acc: 0.8214 - val_loss: 0.7351 - val_acc: 0.8060\n",
      "Epoch 27/40\n",
      "60000/60000 [==============================] - 1s 15us/step - loss: 0.7094 - acc: 0.8205 - val_loss: 0.7285 - val_acc: 0.8097\n",
      "Epoch 28/40\n",
      "60000/60000 [==============================] - 1s 15us/step - loss: 0.7093 - acc: 0.8209 - val_loss: 0.7279 - val_acc: 0.8112\n",
      "Epoch 29/40\n",
      "60000/60000 [==============================] - 1s 15us/step - loss: 0.7090 - acc: 0.8208 - val_loss: 0.7309 - val_acc: 0.8094\n",
      "Epoch 30/40\n",
      "60000/60000 [==============================] - 1s 15us/step - loss: 0.7089 - acc: 0.8208 - val_loss: 0.7286 - val_acc: 0.8089\n",
      "Epoch 31/40\n",
      "60000/60000 [==============================] - 1s 15us/step - loss: 0.7088 - acc: 0.8213 - val_loss: 0.7282 - val_acc: 0.8084\n",
      "Epoch 32/40\n",
      "60000/60000 [==============================] - 1s 16us/step - loss: 0.7087 - acc: 0.8199 - val_loss: 0.7266 - val_acc: 0.8098\n",
      "Epoch 33/40\n",
      "60000/60000 [==============================] - 1s 16us/step - loss: 0.7085 - acc: 0.8205 - val_loss: 0.7300 - val_acc: 0.8094\n",
      "Epoch 34/40\n",
      "60000/60000 [==============================] - 1s 15us/step - loss: 0.7083 - acc: 0.8205 - val_loss: 0.7280 - val_acc: 0.8098\n",
      "Epoch 35/40\n",
      "60000/60000 [==============================] - 1s 15us/step - loss: 0.7083 - acc: 0.8209 - val_loss: 0.7263 - val_acc: 0.8102\n",
      "Epoch 36/40\n",
      "60000/60000 [==============================] - 1s 16us/step - loss: 0.7083 - acc: 0.8192 - val_loss: 0.7273 - val_acc: 0.8090\n",
      "Epoch 37/40\n",
      "60000/60000 [==============================] - 1s 15us/step - loss: 0.7082 - acc: 0.8204 - val_loss: 0.7262 - val_acc: 0.8111\n",
      "Epoch 38/40\n",
      "60000/60000 [==============================] - 1s 15us/step - loss: 0.7082 - acc: 0.8199 - val_loss: 0.7275 - val_acc: 0.8092\n",
      "Epoch 39/40\n",
      "60000/60000 [==============================] - 1s 15us/step - loss: 0.7080 - acc: 0.8200 - val_loss: 0.7289 - val_acc: 0.8080\n",
      "Epoch 40/40\n",
      "60000/60000 [==============================] - 1s 16us/step - loss: 0.7079 - acc: 0.8193 - val_loss: 0.7276 - val_acc: 0.8078\n"
     ]
    }
   ],
   "source": [
    "#model.compile(optimizer = 'sgd', loss = 'categorical_crossentropy', metrics=['accuracy']) \n",
    "history = model.fit(x_train, y3_train, batch_size = batch_size, epochs = nb_epoch, verbose = 1, validation_data = (x_test, y3_test)) \n"
   ]
  },
  {
   "cell_type": "code",
   "execution_count": 9,
   "metadata": {},
   "outputs": [
    {
     "name": "stdout",
     "output_type": "stream",
     "text": [
      "10000/10000 [==============================] - 0s 9us/step\n",
      "Test score: 0.7275552978515625\n",
      "Test accuracy: 0.8078\n"
     ]
    }
   ],
   "source": [
    "score = model.evaluate(x_test, y3_test) \n",
    "print('Test score:', score[0]) \n",
    "print('Test accuracy:', score[1])"
   ]
  },
  {
   "cell_type": "markdown",
   "metadata": {},
   "source": [
    "## 7. Convolutional networks\n",
    "\n",
    "**Pre-processing the data for Convolutional Neural Network**"
   ]
  },
  {
   "cell_type": "code",
   "execution_count": 19,
   "metadata": {},
   "outputs": [
    {
     "data": {
      "text/plain": [
       "(60000, 28, 28)"
      ]
     },
     "execution_count": 19,
     "metadata": {},
     "output_type": "execute_result"
    },
    {
     "data": {
      "application/javascript": [
       "\n",
       "        setTimeout(function() {\n",
       "            var nbb_cell_id = 19;\n",
       "            var nbb_formatted_code = \"x3_train.shape\";\n",
       "            var nbb_cells = Jupyter.notebook.get_cells();\n",
       "            for (var i = 0; i < nbb_cells.length; ++i) {\n",
       "                if (nbb_cells[i].input_prompt_number == nbb_cell_id) {\n",
       "                    nbb_cells[i].set_text(nbb_formatted_code);\n",
       "                    break;\n",
       "                }\n",
       "            }\n",
       "        }, 500);\n",
       "        "
      ],
      "text/plain": [
       "<IPython.core.display.Javascript object>"
      ]
     },
     "metadata": {},
     "output_type": "display_data"
    }
   ],
   "source": [
    "x3_train.shape"
   ]
  },
  {
   "cell_type": "code",
   "execution_count": 17,
   "metadata": {},
   "outputs": [
    {
     "name": "stdout",
     "output_type": "stream",
     "text": [
      "x_train shape: (60000, 28, 28, 1)\n",
      "Number of images in x_train_conv 60000\n",
      "Number of images in x_test_conv 10000\n"
     ]
    },
    {
     "data": {
      "application/javascript": [
       "\n",
       "        setTimeout(function() {\n",
       "            var nbb_cell_id = 17;\n",
       "            var nbb_formatted_code = \"img_rows = x3_train.shape[1]\\nimg_cols = x3_train.shape[2]\\n\\nx_train_conv = x_train.reshape(x3_train.shape[0], img_rows, img_cols, 1)\\nx_test_conv = x_test.reshape(x3_test.shape[0], img_rows, img_cols, 1)\\ninput_shape = (img_rows, img_cols, 1)\\n\\n# more reshaping\\nx_train_conv = x_train_conv.astype(\\\"float32\\\")\\nx_test_conv = x_test_conv.astype(\\\"float32\\\")\\nx_train_conv /= 255\\nx_test_conv /= 255\\nprint(\\\"x_train shape:\\\", x_train_conv.shape)\\nprint(\\\"Number of images in x_train_conv\\\", x_train_conv.shape[0])\\nprint(\\\"Number of images in x_test_conv\\\", x_test_conv.shape[0])\";\n",
       "            var nbb_cells = Jupyter.notebook.get_cells();\n",
       "            for (var i = 0; i < nbb_cells.length; ++i) {\n",
       "                if (nbb_cells[i].input_prompt_number == nbb_cell_id) {\n",
       "                    nbb_cells[i].set_text(nbb_formatted_code);\n",
       "                    break;\n",
       "                }\n",
       "            }\n",
       "        }, 500);\n",
       "        "
      ],
      "text/plain": [
       "<IPython.core.display.Javascript object>"
      ]
     },
     "metadata": {},
     "output_type": "display_data"
    }
   ],
   "source": [
    "img_rows = x3_train.shape[1]\n",
    "img_cols = x3_train.shape[2]\n",
    "\n",
    "x_train_conv = x_train.reshape(x3_train.shape[0], img_rows, img_cols, 1)\n",
    "x_test_conv = x_test.reshape(x3_test.shape[0], img_rows, img_cols, 1)\n",
    "input_shape = (img_rows, img_cols, 1)\n",
    "\n",
    "#more reshaping\n",
    "x_train_conv = x_train_conv.astype('float32')\n",
    "x_test_conv = x_test_conv.astype('float32')\n",
    "x_train_conv /= 255\n",
    "x_test_conv /= 255\n",
    "print('x_train shape:', x_train_conv.shape)\n",
    "print('Number of images in x_train_conv', x_train_conv.shape[0])\n",
    "print('Number of images in x_test_conv', x_test_conv.shape[0])"
   ]
  },
  {
   "cell_type": "code",
   "execution_count": null,
   "metadata": {},
   "outputs": [],
   "source": []
  },
  {
   "cell_type": "code",
   "execution_count": 20,
   "metadata": {},
   "outputs": [
    {
     "name": "stdout",
     "output_type": "stream",
     "text": [
      "WARNING:tensorflow:From /Users/shradhitsubudhi/anaconda3/envs/python37/lib/python3.7/site-packages/tensorflow/python/framework/op_def_library.py:263: colocate_with (from tensorflow.python.framework.ops) is deprecated and will be removed in a future version.\n",
      "Instructions for updating:\n",
      "Colocations handled automatically by placer.\n",
      "WARNING:tensorflow:From /Users/shradhitsubudhi/anaconda3/envs/python37/lib/python3.7/site-packages/keras/backend/tensorflow_backend.py:3445: calling dropout (from tensorflow.python.ops.nn_ops) with keep_prob is deprecated and will be removed in a future version.\n",
      "Instructions for updating:\n",
      "Please use `rate` instead of `keep_prob`. Rate should be set to `rate = 1 - keep_prob`.\n",
      "_________________________________________________________________\n",
      "Layer (type)                 Output Shape              Param #   \n",
      "=================================================================\n",
      "conv2d_1 (Conv2D)            (None, 26, 26, 28)        280       \n",
      "_________________________________________________________________\n",
      "max_pooling2d_1 (MaxPooling2 (None, 13, 13, 28)        0         \n",
      "_________________________________________________________________\n",
      "flatten_1 (Flatten)          (None, 4732)              0         \n",
      "_________________________________________________________________\n",
      "dense_1 (Dense)              (None, 128)               605824    \n",
      "_________________________________________________________________\n",
      "dropout_1 (Dropout)          (None, 128)               0         \n",
      "_________________________________________________________________\n",
      "dense_2 (Dense)              (None, 10)                1290      \n",
      "=================================================================\n",
      "Total params: 607,394\n",
      "Trainable params: 607,394\n",
      "Non-trainable params: 0\n",
      "_________________________________________________________________\n"
     ]
    },
    {
     "data": {
      "application/javascript": [
       "\n",
       "        setTimeout(function() {\n",
       "            var nbb_cell_id = 20;\n",
       "            var nbb_formatted_code = \"# Creating a Sequential Model and adding the layers\\nmodelc = Sequential()\\nmodelc.add(Conv2D(28, kernel_size=(3, 3), input_shape=input_shape))\\nmodelc.add(MaxPooling2D(pool_size=(2, 2)))\\nmodelc.add(Flatten())  # Flattening the 2D arrays for fully connected layers\\nmodelc.add(Dense(128, activation=tf.nn.relu))\\nmodelc.add(Dropout(0.2))\\nmodelc.add(Dense(10, activation=tf.nn.softmax))\\nmodelc.compile(\\n    optimizer=\\\"adam\\\", loss=\\\"sparse_categorical_crossentropy\\\", metrics=[\\\"accuracy\\\"]\\n)\\nmodelc.summary()\";\n",
       "            var nbb_cells = Jupyter.notebook.get_cells();\n",
       "            for (var i = 0; i < nbb_cells.length; ++i) {\n",
       "                if (nbb_cells[i].input_prompt_number == nbb_cell_id) {\n",
       "                    nbb_cells[i].set_text(nbb_formatted_code);\n",
       "                    break;\n",
       "                }\n",
       "            }\n",
       "        }, 500);\n",
       "        "
      ],
      "text/plain": [
       "<IPython.core.display.Javascript object>"
      ]
     },
     "metadata": {},
     "output_type": "display_data"
    }
   ],
   "source": [
    "# Creating a Sequential Model and adding the layers\n",
    "modelc = Sequential()\n",
    "modelc.add(Conv2D(28, kernel_size=(3, 3), input_shape=input_shape))\n",
    "modelc.add(MaxPooling2D(pool_size=(2, 2)))\n",
    "modelc.add(Flatten())  # Flattening the 2D arrays for fully connected layers\n",
    "modelc.add(Dense(128, activation=tf.nn.relu))\n",
    "modelc.add(Dropout(0.2))\n",
    "modelc.add(Dense(10, activation=tf.nn.softmax))\n",
    "modelc.compile(\n",
    "    optimizer=\"adam\", loss=\"sparse_categorical_crossentropy\", metrics=[\"accuracy\"]\n",
    ")\n",
    "modelc.summary()"
   ]
  },
  {
   "cell_type": "code",
   "execution_count": 18,
   "metadata": {},
   "outputs": [
    {
     "name": "stdout",
     "output_type": "stream",
     "text": [
      "Epoch 1/15\n",
      "60000/60000 [==============================] - 11s 183us/step - loss: 0.1040 - acc: 0.9609\n",
      "Epoch 2/15\n",
      "60000/60000 [==============================] - 11s 184us/step - loss: 0.0955 - acc: 0.9636\n",
      "Epoch 3/15\n",
      "60000/60000 [==============================] - 11s 184us/step - loss: 0.0870 - acc: 0.9675\n",
      "Epoch 4/15\n",
      "60000/60000 [==============================] - 11s 185us/step - loss: 0.0835 - acc: 0.9689\n",
      "Epoch 5/15\n",
      "60000/60000 [==============================] - 11s 184us/step - loss: 0.0793 - acc: 0.9706\n",
      "Epoch 6/15\n",
      "60000/60000 [==============================] - 11s 184us/step - loss: 0.0765 - acc: 0.9716\n",
      "Epoch 7/15\n",
      "60000/60000 [==============================] - 11s 186us/step - loss: 0.0694 - acc: 0.9738\n",
      "Epoch 8/15\n",
      "60000/60000 [==============================] - 11s 185us/step - loss: 0.0674 - acc: 0.9747\n",
      "Epoch 9/15\n",
      "60000/60000 [==============================] - 11s 188us/step - loss: 0.0623 - acc: 0.9770\n",
      "Epoch 10/15\n",
      "60000/60000 [==============================] - 11s 188us/step - loss: 0.0610 - acc: 0.9777\n",
      "Epoch 11/15\n",
      "60000/60000 [==============================] - 11s 187us/step - loss: 0.0580 - acc: 0.9786\n",
      "Epoch 12/15\n",
      "60000/60000 [==============================] - 11s 188us/step - loss: 0.0564 - acc: 0.9794\n",
      "Epoch 13/15\n",
      "60000/60000 [==============================] - 11s 189us/step - loss: 0.0552 - acc: 0.9795\n",
      "Epoch 14/15\n",
      "60000/60000 [==============================] - 11s 188us/step - loss: 0.0538 - acc: 0.9804\n",
      "Epoch 15/15\n",
      "60000/60000 [==============================] - 11s 188us/step - loss: 0.0523 - acc: 0.9810\n"
     ]
    },
    {
     "data": {
      "text/plain": [
       "<keras.callbacks.History at 0x14a0fd2e8>"
      ]
     },
     "execution_count": 18,
     "metadata": {},
     "output_type": "execute_result"
    }
   ],
   "source": [
    "modelc.fit(x = x_train_conv, y = y_train, epochs = 15)\n",
    "#y3_train.shape"
   ]
  },
  {
   "cell_type": "code",
   "execution_count": 55,
   "metadata": {},
   "outputs": [
    {
     "name": "stdout",
     "output_type": "stream",
     "text": [
      "10000/10000 [==============================] - 1s 67us/step\n"
     ]
    }
   ],
   "source": [
    "score = modelc.evaluate(x_test_conv, y_test)"
   ]
  },
  {
   "cell_type": "code",
   "execution_count": 59,
   "metadata": {},
   "outputs": [
    {
     "name": "stdout",
     "output_type": "stream",
     "text": [
      "Model Accuracy : 0.914200 \n"
     ]
    }
   ],
   "source": [
    "print(\"Model Accuracy : %f \" % score[1])"
   ]
  },
  {
   "cell_type": "markdown",
   "metadata": {},
   "source": [
    "\n",
    "\\begin{array}{rr} \\hline\n",
    "MODEL & Test \\\\ \\hline\n",
    "Logistic Regression (L1) &0.83 \\\\ \\hline\n",
    "Logistic Regression (L2) &0.84  \\\\ \\hline\n",
    "Decision Tree & 0.79  \\\\ \\hline\n",
    "XGBoost & 0.85  \\\\ \\hline\n",
    "Logistic Regression (Keras) & 0.80  \\\\ \\hline\n",
    "Logistic Regression - PCA & 0.44  \\\\ \\hline\n",
    "Logistic Regression - FastICA & 0.11  \\\\ \\hline\n",
    "Convolutional Neural Network &0.91\\\\ \\hline\n",
    "\\end{array}"
   ]
  }
 ],
 "metadata": {
  "kernelspec": {
   "display_name": "Python 3",
   "language": "python",
   "name": "python3"
  },
  "language_info": {
   "codemirror_mode": {
    "name": "ipython",
    "version": 3
   },
   "file_extension": ".py",
   "mimetype": "text/x-python",
   "name": "python",
   "nbconvert_exporter": "python",
   "pygments_lexer": "ipython3",
   "version": "3.7.2"
  }
 },
 "nbformat": 4,
 "nbformat_minor": 2
}
